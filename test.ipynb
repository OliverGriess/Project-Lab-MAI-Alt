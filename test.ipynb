{
 "cells": [
  {
   "cell_type": "code",
   "execution_count": 2,
   "metadata": {},
   "outputs": [],
   "source": [
    "from dataloader.LAV_DF import create_lav_df_dataloader, get_train_list, get_longest_video_and_frame_rate\n",
    "data_root = \"DATASET/LAV-DF/LAV-DF/LAV-DF\""
   ]
  },
  {
   "cell_type": "code",
   "execution_count": 3,
   "metadata": {},
   "outputs": [
    {
     "name": "stderr",
     "output_type": "stream",
     "text": [
      "Exception ignored in: <bound method IPythonKernel._clean_thread_parent_frames of <ipykernel.ipkernel.IPythonKernel object at 0x0000015C6B87F5C0>>\n",
      "Traceback (most recent call last):\n",
      "  File \"c:\\Users\\nicla\\anaconda3\\envs\\PL_MAI\\Lib\\site-packages\\ipykernel\\ipkernel.py\", line 775, in _clean_thread_parent_frames\n",
      "    def _clean_thread_parent_frames(\n",
      "\n",
      "KeyboardInterrupt: \n"
     ]
    }
   ],
   "source": [
    "longest_video_length, frame_rate = get_longest_video_and_frame_rate(data_root)\n",
    "longest_video_length, frame_rate"
   ]
  },
  {
   "cell_type": "code",
   "execution_count": null,
   "metadata": {},
   "outputs": [],
   "source": [
    "max_frames = longest_video_length * frame_rate"
   ]
  },
  {
   "cell_type": "code",
   "execution_count": 4,
   "metadata": {},
   "outputs": [],
   "source": [
    "train_list = get_train_list(data_root)\n",
    "train_list = train_list\n",
    "train_list[0], len(train_list)"
   ]
  },
  {
   "cell_type": "code",
   "execution_count": 2,
   "metadata": {},
   "outputs": [
    {
     "ename": "NameError",
     "evalue": "name 'train_list' is not defined",
     "output_type": "error",
     "traceback": [
      "\u001b[1;31m---------------------------------------------------------------------------\u001b[0m",
      "\u001b[1;31mNameError\u001b[0m                                 Traceback (most recent call last)",
      "Cell \u001b[1;32mIn[2], line 1\u001b[0m\n\u001b[1;32m----> 1\u001b[0m \u001b[43mtrain_list\u001b[49m[\u001b[38;5;241m-\u001b[39m\u001b[38;5;241m1\u001b[39m]\n",
      "\u001b[1;31mNameError\u001b[0m: name 'train_list' is not defined"
     ]
    }
   ],
   "source": [
    "train_list[-1]"
   ]
  },
  {
   "cell_type": "code",
   "execution_count": 3,
   "metadata": {},
   "outputs": [
    {
     "name": "stdout",
     "output_type": "stream",
     "text": [
      "----------------------------------------------------------------------------------------------------\n",
      "fake_periods[0]:  tensor([[0, 0],\n",
      "        [0, 0]])\n",
      "fake_periods[0] shape:  2\n",
      "----------------------------------------------------------------------------------------------------\n",
      "batch file_ids:  ['000001', '000000', '000002', '000003', '000004', '000017', '000019', '000016']\n"
     ]
    }
   ],
   "source": [
    "dataloader = create_lav_df_dataloader(data_root=data_root)\n",
    "\n",
    "for batch in dataloader:\n",
    "    print(\"-\" * 100)\n",
    "    print(\"fake_periods[0]: \", batch[\"fake_periods\"][0])\n",
    "    print(\"fake_periods[0] shape: \", len(batch[\"fake_periods\"][0]))\n",
    "    print(\"-\" * 100)\n",
    "    print(\"batch file_ids: \", batch[\"file_id\"])\n",
    "    break\n",
    "\n",
    "\n"
   ]
  },
  {
   "cell_type": "code",
   "execution_count": 14,
   "metadata": {},
   "outputs": [
    {
     "data": {
      "text/plain": [
       "tensor([[1, 2],\n",
       "        [3, 4],\n",
       "        [0, 0],\n",
       "        [0, 0],\n",
       "        [0, 0]])"
      ]
     },
     "execution_count": 14,
     "metadata": {},
     "output_type": "execute_result"
    }
   ],
   "source": [
    "import torch\n",
    "\n",
    "\n",
    "def _pad_fake_periods(fake_periods: list[tuple[int, int]], max_fake_periods: int) -> list[tuple[int, int]]:\n",
    "    return torch.tensor(fake_periods + [[0, 0]] * (max_fake_periods - len(fake_periods)))\n",
    "\n",
    "\n",
    "_pad_fake_periods([[1, 2], [3, 4]], 5)\n",
    "\n"
   ]
  },
  {
   "cell_type": "code",
   "execution_count": null,
   "metadata": {},
   "outputs": [],
   "source": []
  }
 ],
 "metadata": {
  "kernelspec": {
   "display_name": "PL_MAI",
   "language": "python",
   "name": "python3"
  },
  "language_info": {
   "codemirror_mode": {
    "name": "ipython",
    "version": 3
   },
   "file_extension": ".py",
   "mimetype": "text/x-python",
   "name": "python",
   "nbconvert_exporter": "python",
   "pygments_lexer": "ipython3",
   "version": "3.12.7"
  }
 },
 "nbformat": 4,
 "nbformat_minor": 2
}
