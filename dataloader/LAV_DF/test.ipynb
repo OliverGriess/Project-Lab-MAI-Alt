{
 "cells": [
  {
   "cell_type": "code",
   "execution_count": 1,
   "metadata": {},
   "outputs": [],
   "source": [
    "import json\n",
    "import os\n",
    "\n",
    "def read_json(path: str, object_hook=None):\n",
    "    with open(path, \"r\") as f:\n",
    "        return json.load(f, object_hook=object_hook)\n",
    "\n",
    "def get_real_fake_list_for_imgs(root_dir: str, path_list):\n",
    "    res_list = [] \n",
    "    for file_path in path_list:\n",
    "        file_name = os.path.basename(file_path)\n",
    "        file_id = file_name.split(\".\")[0]\n",
    "        for i in range(10):\n",
    "            if os.path.exists(os.path.join(root_dir, f\"{file_id}_{i}.png\")):\n",
    "                print(f\"{file_id}_{i}.png\")\n",
    "                res_list.append(os.path.join(root_dir, f\"{file_id}_{i}.png\"))\n",
    "            else:\n",
    "                break\n",
    "    return res_list\n",
    "\n",
    "def get_real_fake_list(root_dir: str, metadata_path: str) -> tuple[list[dict], list[dict]]:\n",
    "    metadata = read_json(metadata_path)\n",
    "    real_list = [os.path.join(root_dir, item[\"file\"])\n",
    "                 for item in metadata if not item[\"modify_audio\"] and not item[\"modify_video\"]]\n",
    "    fake_list = [os.path.join(root_dir, item[\"file\"])\n",
    "                 for item in metadata if item[\"modify_audio\"] or item[\"modify_video\"]]\n",
    "    \n",
    "\n",
    "\n",
    "    return real_list, fake_list"
   ]
  },
  {
   "cell_type": "code",
   "execution_count": 2,
   "metadata": {},
   "outputs": [
    {
     "name": "stdout",
     "output_type": "stream",
     "text": [
      "36431\n",
      "99873\n"
     ]
    }
   ],
   "source": [
    "root_dir = \"./data\"\n",
    "metadata_path = \"./metadata.json\"\n",
    "real_list, fake_list = get_real_fake_list(root_dir, metadata_path)\n",
    "print(len(real_list))\n",
    "print(len(fake_list))\n"
   ]
  },
  {
   "cell_type": "code",
   "execution_count": 4,
   "metadata": {},
   "outputs": [
    {
     "data": {
      "text/plain": [
       "'./data\\\\test/000000.mp4'"
      ]
     },
     "execution_count": 4,
     "metadata": {},
     "output_type": "execute_result"
    }
   ],
   "source": [
    "real_list[1]"
   ]
  },
  {
   "cell_type": "code",
   "execution_count": 12,
   "metadata": {},
   "outputs": [
    {
     "name": "stdout",
     "output_type": "stream",
     "text": [
      "000000_0.png\n",
      "000005_0.png\n",
      "['./data\\\\000000_0.png', './data\\\\000005_0.png']\n"
     ]
    }
   ],
   "source": [
    "\n",
    "for file_path in real_list:\n",
    "    file_name = os.path.basename(file_path)\n",
    "    file_id = file_name.split(\".\")[0]\n",
    "    for i in range(10):\n",
    "        if os.path.exists(os.path.join(root_dir, f\"{file_id}_{i}.png\")):\n",
    "            print(f\"{file_id}_{i}.png\")\n",
    "            final_real_list.append(os.path.join(root_dir, f\"{file_id}_{i}.png\"))\n",
    "        else:\n",
    "            break\n",
    "print(final_real_list)\n"
   ]
  },
  {
   "cell_type": "code",
   "execution_count": null,
   "metadata": {},
   "outputs": [],
   "source": []
  }
 ],
 "metadata": {
  "kernelspec": {
   "display_name": "PL_MAI",
   "language": "python",
   "name": "python3"
  },
  "language_info": {
   "codemirror_mode": {
    "name": "ipython",
    "version": 3
   },
   "file_extension": ".py",
   "mimetype": "text/x-python",
   "name": "python",
   "nbconvert_exporter": "python",
   "pygments_lexer": "ipython3",
   "version": "3.11.11"
  }
 },
 "nbformat": 4,
 "nbformat_minor": 2
}
